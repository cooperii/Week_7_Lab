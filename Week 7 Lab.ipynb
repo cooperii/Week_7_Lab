{
 "cells": [
  {
   "cell_type": "markdown",
   "metadata": {},
   "source": [
    "# Week 7 Lab"
   ]
  },
  {
   "cell_type": "markdown",
   "metadata": {},
   "source": [
    "## Principal Components Analysis"
   ]
  },
  {
   "cell_type": "markdown",
   "metadata": {},
   "source": [
    "Last week we used the Meliphagidae dataset to look at the relationships\n",
    "between morphological and ecological traits. To do this we compared 2\n",
    "traits at a time (a 2 dimensional analysis). But what if we want to look\n",
    "at all of the morphological traits of this family at once? For this we can use principal components analysis (PCA). I won;t be covering the theory or mathematical basis of PCA, as that was the topic of Wednesday's Lecture. Instead we will focus on implementing PCA on the Meliphagidae morpholgical dataset."
   ]
  },
  {
   "cell_type": "markdown",
   "metadata": {},
   "source": [
    "Start by importing all the standard packages and commands"
   ]
  },
  {
   "cell_type": "code",
   "execution_count": 1,
   "metadata": {
    "collapsed": true
   },
   "outputs": [],
   "source": [
    "import numpy as np\n",
    "import pandas as pd\n",
    "import matplotlib.pyplot as plt\n",
    "% matplotlib inline"
   ]
  },
  {
   "cell_type": "markdown",
   "metadata": {},
   "source": [
    "Check your working directory"
   ]
  },
  {
   "cell_type": "code",
   "execution_count": 2,
   "metadata": {
    "collapsed": false
   },
   "outputs": [
    {
     "data": {
      "text/plain": [
       "'/Users/cooper/GitHub/Week_7_Lab'"
      ]
     },
     "execution_count": 2,
     "metadata": {},
     "output_type": "execute_result"
    }
   ],
   "source": [
    "import os\n",
    "os.getcwd()"
   ]
  },
  {
   "cell_type": "markdown",
   "metadata": {},
   "source": [
    "We can also list all of the files in the directory or repo. This is helpful if you want to make sure the dataset you are working on is in the right place."
   ]
  },
  {
   "cell_type": "code",
   "execution_count": 3,
   "metadata": {
    "collapsed": false
   },
   "outputs": [
    {
     "data": {
      "text/plain": [
       "['.ipynb_checkpoints', 'Meliphagidae_Morpho.csv', 'Week 7 Lab.ipynb']"
      ]
     },
     "execution_count": 3,
     "metadata": {},
     "output_type": "execute_result"
    }
   ],
   "source": [
    "os.listdir()"
   ]
  },
  {
   "cell_type": "markdown",
   "metadata": {},
   "source": [
    "The PCA function we will use (and there are many different PCA function sin different packages) is in the **sklearn** package under decomposition. "
   ]
  },
  {
   "cell_type": "code",
   "execution_count": 4,
   "metadata": {
    "collapsed": true
   },
   "outputs": [],
   "source": [
    "from sklearn.decomposition import PCA"
   ]
  },
  {
   "cell_type": "markdown",
   "metadata": {},
   "source": [
    "For exploratory purposes, let's load the iris dataset from the seaborn package and re-run the PCA that Professor Brunton did Wednesday"
   ]
  },
  {
   "cell_type": "code",
   "execution_count": 5,
   "metadata": {
    "collapsed": false
   },
   "outputs": [
    {
     "data": {
      "text/html": [
       "<div>\n",
       "<table border=\"1\" class=\"dataframe\">\n",
       "  <thead>\n",
       "    <tr style=\"text-align: right;\">\n",
       "      <th></th>\n",
       "      <th>sepal_length</th>\n",
       "      <th>sepal_width</th>\n",
       "      <th>petal_length</th>\n",
       "      <th>petal_width</th>\n",
       "      <th>species</th>\n",
       "    </tr>\n",
       "  </thead>\n",
       "  <tbody>\n",
       "    <tr>\n",
       "      <th>0</th>\n",
       "      <td>5.1</td>\n",
       "      <td>3.5</td>\n",
       "      <td>1.4</td>\n",
       "      <td>0.2</td>\n",
       "      <td>setosa</td>\n",
       "    </tr>\n",
       "    <tr>\n",
       "      <th>1</th>\n",
       "      <td>4.9</td>\n",
       "      <td>3.0</td>\n",
       "      <td>1.4</td>\n",
       "      <td>0.2</td>\n",
       "      <td>setosa</td>\n",
       "    </tr>\n",
       "    <tr>\n",
       "      <th>2</th>\n",
       "      <td>4.7</td>\n",
       "      <td>3.2</td>\n",
       "      <td>1.3</td>\n",
       "      <td>0.2</td>\n",
       "      <td>setosa</td>\n",
       "    </tr>\n",
       "    <tr>\n",
       "      <th>3</th>\n",
       "      <td>4.6</td>\n",
       "      <td>3.1</td>\n",
       "      <td>1.5</td>\n",
       "      <td>0.2</td>\n",
       "      <td>setosa</td>\n",
       "    </tr>\n",
       "    <tr>\n",
       "      <th>4</th>\n",
       "      <td>5.0</td>\n",
       "      <td>3.6</td>\n",
       "      <td>1.4</td>\n",
       "      <td>0.2</td>\n",
       "      <td>setosa</td>\n",
       "    </tr>\n",
       "  </tbody>\n",
       "</table>\n",
       "</div>"
      ],
      "text/plain": [
       "   sepal_length  sepal_width  petal_length  petal_width species\n",
       "0           5.1          3.5           1.4          0.2  setosa\n",
       "1           4.9          3.0           1.4          0.2  setosa\n",
       "2           4.7          3.2           1.3          0.2  setosa\n",
       "3           4.6          3.1           1.5          0.2  setosa\n",
       "4           5.0          3.6           1.4          0.2  setosa"
      ]
     },
     "execution_count": 5,
     "metadata": {},
     "output_type": "execute_result"
    }
   ],
   "source": [
    "import seaborn as sns\n",
    "\n",
    "iris = sns.load_dataset('iris')\n",
    "iris.head()"
   ]
  },
  {
   "cell_type": "markdown",
   "metadata": {},
   "source": [
    "The peculiarity of the syntax for this function means we need to re-assign **PCA( )** as another name without the **( )**. \n",
    "\n",
    "We can then run the PCA on our iris data set. \n",
    "\n",
    ".iloc is a pandas functionality used to access an entire row of data at a time (as you might imagine is necessary when you are running a multi-dimensional analysis). Find more at: http://pandas.pydata.org/pandas-docs/stable/indexing.html#selection-by-position\n",
    "\n",
    "Also notice how [:, :4] is used to assess all rows (:), and all columns up to index 3 (:4)\n"
   ]
  },
  {
   "cell_type": "code",
   "execution_count": 6,
   "metadata": {
    "collapsed": false
   },
   "outputs": [
    {
     "data": {
      "text/plain": [
       "PCA(copy=True, n_components=None, whiten=False)"
      ]
     },
     "execution_count": 6,
     "metadata": {},
     "output_type": "execute_result"
    }
   ],
   "source": [
    "iris_pca = PCA()\n",
    "iris_pca.fit(iris.iloc[:, :4])"
   ]
  },
  {
   "cell_type": "markdown",
   "metadata": {},
   "source": [
    "The amount that each principal component contributes to the overall variance in the data can be assessed using **.explained_variance_ratio**\n",
    "\n",
    "For the iris dataset you can see that the majority of the variance is explained by the first component."
   ]
  },
  {
   "cell_type": "code",
   "execution_count": 7,
   "metadata": {
    "collapsed": false
   },
   "outputs": [
    {
     "data": {
      "text/plain": [
       "array([ 0.92461872,  0.05306648,  0.01710261,  0.00521218])"
      ]
     },
     "execution_count": 7,
     "metadata": {},
     "output_type": "execute_result"
    }
   ],
   "source": [
    "iris_pca.explained_variance_ratio_"
   ]
  },
  {
   "cell_type": "markdown",
   "metadata": {},
   "source": [
    "We can transform the original data by the principal components using .transform\n",
    "This is equivalent to the matrix multiplication/rotation shown in class. The subtitle **_red** is used because the data has been **reduced** to it's principal components."
   ]
  },
  {
   "cell_type": "code",
   "execution_count": 8,
   "metadata": {
    "collapsed": true
   },
   "outputs": [],
   "source": [
    "iris_red = iris_pca.transform(iris.iloc[:, :4])"
   ]
  },
  {
   "cell_type": "markdown",
   "metadata": {},
   "source": [
    "We can then graph the data on the first two principal components"
   ]
  },
  {
   "cell_type": "code",
   "execution_count": 9,
   "metadata": {
    "collapsed": false
   },
   "outputs": [
    {
     "data": {
      "image/png": "[encoded data removed]",
      "text/plain": [
       "<matplotlib.figure.Figure at 0x11579bf60>"
      ]
     },
     "metadata": {},
     "output_type": "display_data"
    }
   ],
   "source": [
    "for sp in set(iris.species):\n",
    "    myspecies = iris.species.str.contains(sp)\n",
    "    plt.plot(iris_red[np.ix_(myspecies), 0].flatten(),\n",
    "            iris_red[np.ix_(myspecies), 1].flatten(),\n",
    "            '.')"
   ]
  },
  {
   "cell_type": "markdown",
   "metadata": {},
   "source": [
    "Now try plotting the data using the 3rd and 4th PCs. \n",
    "\n",
    "Does your result make sense? \n",
    "\n",
    "Why?"
   ]
  },
  {
   "cell_type": "code",
   "execution_count": 10,
   "metadata": {
    "collapsed": false
   },
   "outputs": [
    {
     "data": {
      "image/png": "[encoded data removed]",
      "text/plain": [
       "<matplotlib.figure.Figure at 0x11579bb70>"
      ]
     },
     "metadata": {},
     "output_type": "display_data"
    }
   ],
   "source": [
    "# plot iris data in the 3rd and 4th PC space.\n",
    "\n",
    "    \n",
    "# Does this result make sense?    "
   ]
  },
  {
   "cell_type": "markdown",
   "metadata": {},
   "source": [
    "## Next step: try PCA on a different data set"
   ]
  },
  {
   "cell_type": "markdown",
   "metadata": {},
   "source": [
    "Now let's get back to the Meliphagidae morphology data set. Import the dataset using **pandas**. Call the imported dat set \"Morpho\"\n",
    "\n",
    "*you can go back to Week 6 lab if you need a reminder on how to do this*"
   ]
  },
  {
   "cell_type": "code",
   "execution_count": null,
   "metadata": {
    "collapsed": false
   },
   "outputs": [],
   "source": [
    "# Code for importing data set here"
   ]
  },
  {
   "cell_type": "markdown",
   "metadata": {},
   "source": [
    "Next you will want to assign **PCA( )** a new name. Let's make it \"Mel_pca\"\n",
    "\n",
    "Then fit the data according to the PCs using **.fit( )**. You will need to make sure the command is assessing the correct parts of the data set (the 2nd column onward)"
   ]
  },
  {
   "cell_type": "code",
   "execution_count": null,
   "metadata": {
    "collapsed": false
   },
   "outputs": [],
   "source": [
    "# Code here"
   ]
  },
  {
   "cell_type": "markdown",
   "metadata": {},
   "source": [
    "Use **.components_** to view the fitted data."
   ]
  },
  {
   "cell_type": "code",
   "execution_count": 13,
   "metadata": {
    "collapsed": false
   },
   "outputs": [
    {
     "data": {
      "text/plain": [
       "array([[ -2.53206810e-02,  -3.67853245e-02,  -9.48384958e-03,\n",
       "         -1.74248463e-02,  -1.60890393e-02,   1.88674772e-02,\n",
       "         -1.82202046e-05,  -3.19021283e-01,  -3.95312361e-01,\n",
       "         -6.25593802e-02,  -4.42735669e-02,  -3.60441583e-02,\n",
       "         -7.78134601e-01,  -3.55257495e-01,  -8.74656523e-03],\n",
       "       [  1.57527429e-01,  -3.55692733e-01,   3.20411212e-02,\n",
       "         -2.07425083e-01,   4.79104786e-02,  -2.27610992e-01,\n",
       "         -3.04731483e-04,   2.81449849e-01,  -5.18713685e-01,\n",
       "          6.63811608e-02,   6.28750766e-02,   4.96980429e-02,\n",
       "         -1.32438084e-01,   6.11124425e-01,  -1.98312056e-02],\n",
       "       [  2.22509411e-01,  -4.63387718e-01,  -1.31195609e-02,\n",
       "         -1.42327823e-01,  -1.02846534e-02,  -5.04186755e-01,\n",
       "          1.32647856e-04,  -5.56257126e-01,   1.13456380e-01,\n",
       "          1.02071962e-03,  -3.90629317e-02,  -2.68140282e-02,\n",
       "          2.53191444e-01,  -1.55345554e-01,  -2.19644126e-01],\n",
       "       [ -5.93242684e-02,  -7.72944720e-02,  -5.52300104e-03,\n",
       "         -6.28653868e-02,  -2.99489389e-02,   6.26764422e-01,\n",
       "         -2.36434863e-04,  -4.88139592e-01,   6.82761678e-02,\n",
       "         -5.62409751e-02,  -3.71519023e-02,  -3.71848590e-02,\n",
       "         -1.23402052e-02,   4.66559703e-01,  -3.55098355e-01],\n",
       "       [  2.18397624e-01,  -1.59610670e-01,   2.69494213e-02,\n",
       "          3.58778689e-01,   5.70494013e-02,   3.18257108e-01,\n",
       "          9.21425014e-05,   1.22556801e-01,  -5.36303202e-01,\n",
       "          1.03918636e-01,   5.55320724e-02,   7.89044041e-03,\n",
       "          3.81833237e-01,  -3.71193170e-01,  -3.04415550e-01],\n",
       "       [  4.09756921e-02,  -5.69400022e-01,   1.18755528e-02,\n",
       "         -3.79434019e-01,  -5.27391596e-02,   4.20627765e-01,\n",
       "         -1.64807850e-04,   1.29230808e-01,   9.98146079e-02,\n",
       "         -1.45949913e-01,  -2.97485732e-02,  -3.46743293e-02,\n",
       "          5.83543818e-02,  -2.35048586e-01,   4.91506814e-01],\n",
       "       [  1.90228787e-01,  -1.40774539e-01,  -3.08883542e-02,\n",
       "          7.12192833e-01,   3.36503441e-03,  -3.23985624e-02,\n",
       "          5.47709993e-04,  -2.31298895e-01,  -4.31708100e-03,\n",
       "         -2.03435199e-01,  -8.56318878e-02,  -6.79471254e-02,\n",
       "         -1.56700117e-02,   2.52613797e-01,   5.13662260e-01],\n",
       "       [  1.26611698e-01,  -4.20826410e-01,  -1.50703577e-02,\n",
       "          3.32531352e-01,  -3.38301723e-02,   3.43810660e-02,\n",
       "         -1.49379097e-04,   3.59730399e-01,   4.86538793e-01,\n",
       "          1.52621974e-01,   1.83349968e-02,   9.67258834e-02,\n",
       "         -3.87301378e-01,  -2.37409505e-02,  -3.79560736e-01],\n",
       "       [  3.85009097e-01,   1.27759966e-01,   5.87824749e-02,\n",
       "         -7.04808451e-02,   1.36131083e-01,   1.23571681e-01,\n",
       "         -8.96190831e-04,  -2.06219638e-01,   7.95487997e-02,\n",
       "          7.10174010e-01,   2.89252659e-01,   2.82389301e-01,\n",
       "         -6.76654061e-02,   1.01324582e-02,   2.68190706e-01],\n",
       "       [ -7.59244789e-01,  -2.72735281e-01,  -1.36273777e-01,\n",
       "          1.78881215e-01,  -2.15477118e-01,  -6.38020793e-02,\n",
       "         -2.77847997e-03,  -9.52602887e-02,  -1.03512993e-01,\n",
       "          4.26072495e-01,   1.74715169e-01,  -2.51180228e-03,\n",
       "          7.98572313e-02,   1.04243571e-02,   9.86924177e-02],\n",
       "       [  1.01313546e-01,   4.09282684e-02,  -1.91446318e-01,\n",
       "          3.27311030e-03,  -4.02204209e-01,  -1.00961208e-02,\n",
       "          7.24854427e-03,  -2.52486430e-02,   1.47444721e-03,\n",
       "         -3.71234616e-01,   7.69569369e-01,   2.39828740e-01,\n",
       "         -4.94692267e-03,  -1.10047578e-02,  -3.34681008e-02],\n",
       "       [  1.69176469e-01,   4.13265716e-02,  -1.83759572e-01,\n",
       "         -3.44500343e-02,  -4.57562134e-02,   9.28033655e-03,\n",
       "          7.31407322e-03,   5.04213834e-02,   4.56235955e-02,\n",
       "          1.75355301e-01,   2.74164804e-01,  -9.05401531e-01,\n",
       "         -4.29638566e-02,   1.78282888e-02,  -5.33642416e-03],\n",
       "       [  2.37335243e-01,   1.03000621e-01,  -3.31316325e-01,\n",
       "         -4.98884261e-02,  -7.61659219e-01,   1.79032439e-02,\n",
       "          1.97421786e-03,   4.17688088e-02,  -6.04007592e-02,\n",
       "          1.89658282e-01,  -4.41069345e-01,   5.86872968e-02,\n",
       "          2.01790648e-02,   1.99257589e-02,   1.41618584e-02],\n",
       "       [  1.95413637e-03,   1.09903163e-02,   8.91299414e-01,\n",
       "          3.63516119e-02,  -4.24590118e-01,  -2.24283430e-02,\n",
       "          1.89644623e-03,  -1.25507227e-02,   5.69518936e-03,\n",
       "          3.61638417e-02,   5.80371983e-02,  -1.35645094e-01,\n",
       "         -5.03029256e-03,   7.20754688e-03,   3.60182289e-03],\n",
       "       [ -4.30341793e-03,  -1.59727670e-03,   1.39382530e-03,\n",
       "          1.96157247e-04,   5.07030907e-03,   1.54905230e-04,\n",
       "          9.99938709e-01,  -4.65194632e-04,  -4.75553456e-04,\n",
       "          2.89205095e-03,  -6.02414600e-03,   5.32604347e-03,\n",
       "          3.15183810e-04,   9.86476145e-05,   4.71423136e-04]])"
      ]
     },
     "execution_count": 13,
     "metadata": {},
     "output_type": "execute_result"
    }
   ],
   "source": [
    "# Components code here"
   ]
  },
  {
   "cell_type": "markdown",
   "metadata": {},
   "source": [
    "And use **.explained_variance_ratio_** to see how many principal components are generated and how much each one contributes to the overall variance of the data. \n",
    "\n",
    "Does the number of PCs make sense? Why?"
   ]
  },
  {
   "cell_type": "code",
   "execution_count": 19,
   "metadata": {
    "collapsed": false
   },
   "outputs": [],
   "source": [
    "# Variance ratio code here"
   ]
  },
  {
   "cell_type": "markdown",
   "metadata": {},
   "source": [
    "Let's synthesize a data set by transforming the Morpho data set using **.transform**. \n",
    "\n",
    "Call this new array \"Mel_red\""
   ]
  },
  {
   "cell_type": "code",
   "execution_count": 20,
   "metadata": {
    "collapsed": true
   },
   "outputs": [],
   "source": [
    "# Transform and roll out\n"
   ]
  },
  {
   "cell_type": "markdown",
   "metadata": {},
   "source": [
    "Plotting all the species in different colors won't be very informative becasue there is only one of each species. So just plot all the points as a scatter plot using the 1st and 2nd PCs"
   ]
  },
  {
   "cell_type": "code",
   "execution_count": 21,
   "metadata": {
    "collapsed": false
   },
   "outputs": [],
   "source": [
    "# plot here\n"
   ]
  },
  {
   "cell_type": "markdown",
   "metadata": {},
   "source": [
    "## Challenge \n",
    "I've included a dataset with the subfamily and tribe data for all of the species in the Meliphagidae list. Your task: Plot the same PC graph as above, but color all the data points according to the subfamily of the species.\n",
    "Possible approaches include going back and using **.merge** to create a new data set with only the info you need and re-running the PCA, or you could try referencing the subspecies info to inform your existing PCA. I leave this to your imagination and ingenuity."
   ]
  },
  {
   "cell_type": "code",
   "execution_count": null,
   "metadata": {
    "collapsed": true
   },
   "outputs": [],
   "source": [
    "# Challenge code here"
   ]
  }
 ],
 "metadata": {
  "anaconda-cloud": {},
  "kernelspec": {
   "display_name": "Python [conda root]",
   "language": "python",
   "name": "conda-root-py"
  },
  "language_info": {
   "codemirror_mode": {
    "name": "ipython",
    "version": 3
   },
   "file_extension": ".py",
   "mimetype": "text/x-python",
   "name": "python",
   "nbconvert_exporter": "python",
   "pygments_lexer": "ipython3",
   "version": "3.5.2"
  }
 },
 "nbformat": 4,
 "nbformat_minor": 1
}
